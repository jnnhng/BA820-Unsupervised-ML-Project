{
  "nbformat": 4,
  "nbformat_minor": 0,
  "metadata": {
    "colab": {
      "provenance": []
    },
    "kernelspec": {
      "name": "python3",
      "display_name": "Python 3"
    },
    "language_info": {
      "name": "python"
    }
  },
  "cells": [
    {
      "cell_type": "markdown",
      "source": [
        "Inital EDA and Pre-processing\n",
        "\n",
        "Steps left to do: hande missing values"
      ],
      "metadata": {
        "id": "qUzIn6_QCBg1"
      }
    },
    {
      "cell_type": "code",
      "execution_count": 2,
      "metadata": {
        "id": "gq7sNnIHCAzb"
      },
      "outputs": [],
      "source": [
        "#importing libraries\n",
        "import pandas as pd"
      ]
    },
    {
      "cell_type": "code",
      "source": [
        "#Read json sample into a dataframe\n",
        "df = pd.read_json('/content/random_sample_100.json')\n",
        "df.head()"
      ],
      "metadata": {
        "colab": {
          "base_uri": "https://localhost:8080/",
          "height": 417
        },
        "id": "Lh-9vccGC6TS",
        "outputId": "38c39bb5-a8d1-476b-ff4f-b571f386195f"
      },
      "execution_count": 4,
      "outputs": [
        {
          "output_type": "execute_result",
          "data": {
            "text/plain": [
              "   overall  verified   reviewTime      reviewerID        asin  \\\n",
              "0        5     False  01 23, 2017  A1YTZAZZ1L32RL  0002005263   \n",
              "1        5      True   08 3, 2014  A3EHZMD24B5BQ0  0002005263   \n",
              "2        5      True   07 9, 2013  A38ZMH9LRCZL3X  0001381733   \n",
              "3        5      True   12 3, 2017   AYMEYAL8G7LJB  0001384198   \n",
              "4        3     False   10 4, 2011  A39QEKNEFSJ34Q  0002005263   \n",
              "\n",
              "                             style reviewerName  \\\n",
              "0   {'Format:': ' Kindle Edition'}        Chuck   \n",
              "1        {'Format:': ' Paperback'}       Sola49   \n",
              "2        {'Format:': ' Hardcover'}  A. E. Stoff   \n",
              "3        {'Format:': ' Hardcover'}      MARILYN   \n",
              "4  {'Format:': ' Unknown Binding'}   hrladyship   \n",
              "\n",
              "                                          reviewText  \\\n",
              "0                                         Ok reading   \n",
              "1                                               Good   \n",
              "2  I purchased it for my new great-granddaughter....   \n",
              "3       A very nice replica of the original classic.   \n",
              "4  If you're thinking of buying The Sinister Pig ...   \n",
              "\n",
              "                                           summary  unixReviewTime image vote  \n",
              "0                                               Ok      1485129600   NaN  NaN  \n",
              "1                                       Five Stars      1407024000   NaN  NaN  \n",
              "2                      New Book for New Grandchild      1373328000   NaN  NaN  \n",
              "3  Excellent reproduction of the timeless classic.      1512259200   NaN  NaN  \n",
              "4                            And the hero is . . .      1317686400   NaN  NaN  "
            ],
            "text/html": [
              "\n",
              "  <div id=\"df-d1ad8f91-02b0-40f4-ad6a-ca4ca12d13bc\" class=\"colab-df-container\">\n",
              "    <div>\n",
              "<style scoped>\n",
              "    .dataframe tbody tr th:only-of-type {\n",
              "        vertical-align: middle;\n",
              "    }\n",
              "\n",
              "    .dataframe tbody tr th {\n",
              "        vertical-align: top;\n",
              "    }\n",
              "\n",
              "    .dataframe thead th {\n",
              "        text-align: right;\n",
              "    }\n",
              "</style>\n",
              "<table border=\"1\" class=\"dataframe\">\n",
              "  <thead>\n",
              "    <tr style=\"text-align: right;\">\n",
              "      <th></th>\n",
              "      <th>overall</th>\n",
              "      <th>verified</th>\n",
              "      <th>reviewTime</th>\n",
              "      <th>reviewerID</th>\n",
              "      <th>asin</th>\n",
              "      <th>style</th>\n",
              "      <th>reviewerName</th>\n",
              "      <th>reviewText</th>\n",
              "      <th>summary</th>\n",
              "      <th>unixReviewTime</th>\n",
              "      <th>image</th>\n",
              "      <th>vote</th>\n",
              "    </tr>\n",
              "  </thead>\n",
              "  <tbody>\n",
              "    <tr>\n",
              "      <th>0</th>\n",
              "      <td>5</td>\n",
              "      <td>False</td>\n",
              "      <td>01 23, 2017</td>\n",
              "      <td>A1YTZAZZ1L32RL</td>\n",
              "      <td>0002005263</td>\n",
              "      <td>{'Format:': ' Kindle Edition'}</td>\n",
              "      <td>Chuck</td>\n",
              "      <td>Ok reading</td>\n",
              "      <td>Ok</td>\n",
              "      <td>1485129600</td>\n",
              "      <td>NaN</td>\n",
              "      <td>NaN</td>\n",
              "    </tr>\n",
              "    <tr>\n",
              "      <th>1</th>\n",
              "      <td>5</td>\n",
              "      <td>True</td>\n",
              "      <td>08 3, 2014</td>\n",
              "      <td>A3EHZMD24B5BQ0</td>\n",
              "      <td>0002005263</td>\n",
              "      <td>{'Format:': ' Paperback'}</td>\n",
              "      <td>Sola49</td>\n",
              "      <td>Good</td>\n",
              "      <td>Five Stars</td>\n",
              "      <td>1407024000</td>\n",
              "      <td>NaN</td>\n",
              "      <td>NaN</td>\n",
              "    </tr>\n",
              "    <tr>\n",
              "      <th>2</th>\n",
              "      <td>5</td>\n",
              "      <td>True</td>\n",
              "      <td>07 9, 2013</td>\n",
              "      <td>A38ZMH9LRCZL3X</td>\n",
              "      <td>0001381733</td>\n",
              "      <td>{'Format:': ' Hardcover'}</td>\n",
              "      <td>A. E. Stoff</td>\n",
              "      <td>I purchased it for my new great-granddaughter....</td>\n",
              "      <td>New Book for New Grandchild</td>\n",
              "      <td>1373328000</td>\n",
              "      <td>NaN</td>\n",
              "      <td>NaN</td>\n",
              "    </tr>\n",
              "    <tr>\n",
              "      <th>3</th>\n",
              "      <td>5</td>\n",
              "      <td>True</td>\n",
              "      <td>12 3, 2017</td>\n",
              "      <td>AYMEYAL8G7LJB</td>\n",
              "      <td>0001384198</td>\n",
              "      <td>{'Format:': ' Hardcover'}</td>\n",
              "      <td>MARILYN</td>\n",
              "      <td>A very nice replica of the original classic.</td>\n",
              "      <td>Excellent reproduction of the timeless classic.</td>\n",
              "      <td>1512259200</td>\n",
              "      <td>NaN</td>\n",
              "      <td>NaN</td>\n",
              "    </tr>\n",
              "    <tr>\n",
              "      <th>4</th>\n",
              "      <td>3</td>\n",
              "      <td>False</td>\n",
              "      <td>10 4, 2011</td>\n",
              "      <td>A39QEKNEFSJ34Q</td>\n",
              "      <td>0002005263</td>\n",
              "      <td>{'Format:': ' Unknown Binding'}</td>\n",
              "      <td>hrladyship</td>\n",
              "      <td>If you're thinking of buying The Sinister Pig ...</td>\n",
              "      <td>And the hero is . . .</td>\n",
              "      <td>1317686400</td>\n",
              "      <td>NaN</td>\n",
              "      <td>NaN</td>\n",
              "    </tr>\n",
              "  </tbody>\n",
              "</table>\n",
              "</div>\n",
              "    <div class=\"colab-df-buttons\">\n",
              "\n",
              "  <div class=\"colab-df-container\">\n",
              "    <button class=\"colab-df-convert\" onclick=\"convertToInteractive('df-d1ad8f91-02b0-40f4-ad6a-ca4ca12d13bc')\"\n",
              "            title=\"Convert this dataframe to an interactive table.\"\n",
              "            style=\"display:none;\">\n",
              "\n",
              "  <svg xmlns=\"http://www.w3.org/2000/svg\" height=\"24px\" viewBox=\"0 -960 960 960\">\n",
              "    <path d=\"M120-120v-720h720v720H120Zm60-500h600v-160H180v160Zm220 220h160v-160H400v160Zm0 220h160v-160H400v160ZM180-400h160v-160H180v160Zm440 0h160v-160H620v160ZM180-180h160v-160H180v160Zm440 0h160v-160H620v160Z\"/>\n",
              "  </svg>\n",
              "    </button>\n",
              "\n",
              "  <style>\n",
              "    .colab-df-container {\n",
              "      display:flex;\n",
              "      gap: 12px;\n",
              "    }\n",
              "\n",
              "    .colab-df-convert {\n",
              "      background-color: #E8F0FE;\n",
              "      border: none;\n",
              "      border-radius: 50%;\n",
              "      cursor: pointer;\n",
              "      display: none;\n",
              "      fill: #1967D2;\n",
              "      height: 32px;\n",
              "      padding: 0 0 0 0;\n",
              "      width: 32px;\n",
              "    }\n",
              "\n",
              "    .colab-df-convert:hover {\n",
              "      background-color: #E2EBFA;\n",
              "      box-shadow: 0px 1px 2px rgba(60, 64, 67, 0.3), 0px 1px 3px 1px rgba(60, 64, 67, 0.15);\n",
              "      fill: #174EA6;\n",
              "    }\n",
              "\n",
              "    .colab-df-buttons div {\n",
              "      margin-bottom: 4px;\n",
              "    }\n",
              "\n",
              "    [theme=dark] .colab-df-convert {\n",
              "      background-color: #3B4455;\n",
              "      fill: #D2E3FC;\n",
              "    }\n",
              "\n",
              "    [theme=dark] .colab-df-convert:hover {\n",
              "      background-color: #434B5C;\n",
              "      box-shadow: 0px 1px 3px 1px rgba(0, 0, 0, 0.15);\n",
              "      filter: drop-shadow(0px 1px 2px rgba(0, 0, 0, 0.3));\n",
              "      fill: #FFFFFF;\n",
              "    }\n",
              "  </style>\n",
              "\n",
              "    <script>\n",
              "      const buttonEl =\n",
              "        document.querySelector('#df-d1ad8f91-02b0-40f4-ad6a-ca4ca12d13bc button.colab-df-convert');\n",
              "      buttonEl.style.display =\n",
              "        google.colab.kernel.accessAllowed ? 'block' : 'none';\n",
              "\n",
              "      async function convertToInteractive(key) {\n",
              "        const element = document.querySelector('#df-d1ad8f91-02b0-40f4-ad6a-ca4ca12d13bc');\n",
              "        const dataTable =\n",
              "          await google.colab.kernel.invokeFunction('convertToInteractive',\n",
              "                                                    [key], {});\n",
              "        if (!dataTable) return;\n",
              "\n",
              "        const docLinkHtml = 'Like what you see? Visit the ' +\n",
              "          '<a target=\"_blank\" href=https://colab.research.google.com/notebooks/data_table.ipynb>data table notebook</a>'\n",
              "          + ' to learn more about interactive tables.';\n",
              "        element.innerHTML = '';\n",
              "        dataTable['output_type'] = 'display_data';\n",
              "        await google.colab.output.renderOutput(dataTable, element);\n",
              "        const docLink = document.createElement('div');\n",
              "        docLink.innerHTML = docLinkHtml;\n",
              "        element.appendChild(docLink);\n",
              "      }\n",
              "    </script>\n",
              "  </div>\n",
              "\n",
              "\n",
              "<div id=\"df-281c6000-c031-4b7e-861c-b54182fdbb3d\">\n",
              "  <button class=\"colab-df-quickchart\" onclick=\"quickchart('df-281c6000-c031-4b7e-861c-b54182fdbb3d')\"\n",
              "            title=\"Suggest charts\"\n",
              "            style=\"display:none;\">\n",
              "\n",
              "<svg xmlns=\"http://www.w3.org/2000/svg\" height=\"24px\"viewBox=\"0 0 24 24\"\n",
              "     width=\"24px\">\n",
              "    <g>\n",
              "        <path d=\"M19 3H5c-1.1 0-2 .9-2 2v14c0 1.1.9 2 2 2h14c1.1 0 2-.9 2-2V5c0-1.1-.9-2-2-2zM9 17H7v-7h2v7zm4 0h-2V7h2v10zm4 0h-2v-4h2v4z\"/>\n",
              "    </g>\n",
              "</svg>\n",
              "  </button>\n",
              "\n",
              "<style>\n",
              "  .colab-df-quickchart {\n",
              "      --bg-color: #E8F0FE;\n",
              "      --fill-color: #1967D2;\n",
              "      --hover-bg-color: #E2EBFA;\n",
              "      --hover-fill-color: #174EA6;\n",
              "      --disabled-fill-color: #AAA;\n",
              "      --disabled-bg-color: #DDD;\n",
              "  }\n",
              "\n",
              "  [theme=dark] .colab-df-quickchart {\n",
              "      --bg-color: #3B4455;\n",
              "      --fill-color: #D2E3FC;\n",
              "      --hover-bg-color: #434B5C;\n",
              "      --hover-fill-color: #FFFFFF;\n",
              "      --disabled-bg-color: #3B4455;\n",
              "      --disabled-fill-color: #666;\n",
              "  }\n",
              "\n",
              "  .colab-df-quickchart {\n",
              "    background-color: var(--bg-color);\n",
              "    border: none;\n",
              "    border-radius: 50%;\n",
              "    cursor: pointer;\n",
              "    display: none;\n",
              "    fill: var(--fill-color);\n",
              "    height: 32px;\n",
              "    padding: 0;\n",
              "    width: 32px;\n",
              "  }\n",
              "\n",
              "  .colab-df-quickchart:hover {\n",
              "    background-color: var(--hover-bg-color);\n",
              "    box-shadow: 0 1px 2px rgba(60, 64, 67, 0.3), 0 1px 3px 1px rgba(60, 64, 67, 0.15);\n",
              "    fill: var(--button-hover-fill-color);\n",
              "  }\n",
              "\n",
              "  .colab-df-quickchart-complete:disabled,\n",
              "  .colab-df-quickchart-complete:disabled:hover {\n",
              "    background-color: var(--disabled-bg-color);\n",
              "    fill: var(--disabled-fill-color);\n",
              "    box-shadow: none;\n",
              "  }\n",
              "\n",
              "  .colab-df-spinner {\n",
              "    border: 2px solid var(--fill-color);\n",
              "    border-color: transparent;\n",
              "    border-bottom-color: var(--fill-color);\n",
              "    animation:\n",
              "      spin 1s steps(1) infinite;\n",
              "  }\n",
              "\n",
              "  @keyframes spin {\n",
              "    0% {\n",
              "      border-color: transparent;\n",
              "      border-bottom-color: var(--fill-color);\n",
              "      border-left-color: var(--fill-color);\n",
              "    }\n",
              "    20% {\n",
              "      border-color: transparent;\n",
              "      border-left-color: var(--fill-color);\n",
              "      border-top-color: var(--fill-color);\n",
              "    }\n",
              "    30% {\n",
              "      border-color: transparent;\n",
              "      border-left-color: var(--fill-color);\n",
              "      border-top-color: var(--fill-color);\n",
              "      border-right-color: var(--fill-color);\n",
              "    }\n",
              "    40% {\n",
              "      border-color: transparent;\n",
              "      border-right-color: var(--fill-color);\n",
              "      border-top-color: var(--fill-color);\n",
              "    }\n",
              "    60% {\n",
              "      border-color: transparent;\n",
              "      border-right-color: var(--fill-color);\n",
              "    }\n",
              "    80% {\n",
              "      border-color: transparent;\n",
              "      border-right-color: var(--fill-color);\n",
              "      border-bottom-color: var(--fill-color);\n",
              "    }\n",
              "    90% {\n",
              "      border-color: transparent;\n",
              "      border-bottom-color: var(--fill-color);\n",
              "    }\n",
              "  }\n",
              "</style>\n",
              "\n",
              "  <script>\n",
              "    async function quickchart(key) {\n",
              "      const quickchartButtonEl =\n",
              "        document.querySelector('#' + key + ' button');\n",
              "      quickchartButtonEl.disabled = true;  // To prevent multiple clicks.\n",
              "      quickchartButtonEl.classList.add('colab-df-spinner');\n",
              "      try {\n",
              "        const charts = await google.colab.kernel.invokeFunction(\n",
              "            'suggestCharts', [key], {});\n",
              "      } catch (error) {\n",
              "        console.error('Error during call to suggestCharts:', error);\n",
              "      }\n",
              "      quickchartButtonEl.classList.remove('colab-df-spinner');\n",
              "      quickchartButtonEl.classList.add('colab-df-quickchart-complete');\n",
              "    }\n",
              "    (() => {\n",
              "      let quickchartButtonEl =\n",
              "        document.querySelector('#df-281c6000-c031-4b7e-861c-b54182fdbb3d button');\n",
              "      quickchartButtonEl.style.display =\n",
              "        google.colab.kernel.accessAllowed ? 'block' : 'none';\n",
              "    })();\n",
              "  </script>\n",
              "</div>\n",
              "    </div>\n",
              "  </div>\n"
            ],
            "application/vnd.google.colaboratory.intrinsic+json": {
              "type": "dataframe",
              "variable_name": "df",
              "repr_error": "'str' object has no attribute 'empty'"
            }
          },
          "metadata": {},
          "execution_count": 4
        }
      ]
    },
    {
      "cell_type": "code",
      "source": [
        "#Check dtypes and columns\n",
        "df.info()"
      ],
      "metadata": {
        "colab": {
          "base_uri": "https://localhost:8080/"
        },
        "id": "GDHEyZxjDDYj",
        "outputId": "5e0f5077-fd9b-4897-e80f-f003e4498825"
      },
      "execution_count": 6,
      "outputs": [
        {
          "output_type": "stream",
          "name": "stdout",
          "text": [
            "<class 'pandas.core.frame.DataFrame'>\n",
            "RangeIndex: 61100 entries, 0 to 61099\n",
            "Data columns (total 12 columns):\n",
            " #   Column          Non-Null Count  Dtype \n",
            "---  ------          --------------  ----- \n",
            " 0   overall         61100 non-null  int64 \n",
            " 1   verified        61100 non-null  bool  \n",
            " 2   reviewTime      61100 non-null  object\n",
            " 3   reviewerID      61100 non-null  object\n",
            " 4   asin            61100 non-null  object\n",
            " 5   style           58295 non-null  object\n",
            " 6   reviewerName    61098 non-null  object\n",
            " 7   reviewText      61094 non-null  object\n",
            " 8   summary         61091 non-null  object\n",
            " 9   unixReviewTime  61100 non-null  int64 \n",
            " 10  image           109 non-null    object\n",
            " 11  vote            11773 non-null  object\n",
            "dtypes: bool(1), int64(2), object(9)\n",
            "memory usage: 5.2+ MB\n"
          ]
        }
      ]
    },
    {
      "cell_type": "code",
      "source": [
        "#Convert style from dictionary into standard dataframe column\n",
        "df['style'] = df['style'].apply(lambda x: x['Format:'].strip()\\\n",
        "                                if pd.notnull(x) and 'Format:' in x else x)\n",
        "\n",
        "df['style'].head()"
      ],
      "metadata": {
        "colab": {
          "base_uri": "https://localhost:8080/"
        },
        "id": "atpTQbLDDS0k",
        "outputId": "ebaa337d-eb71-43a5-9776-18eb23a3bcfb"
      },
      "execution_count": 11,
      "outputs": [
        {
          "output_type": "execute_result",
          "data": {
            "text/plain": [
              "0     Kindle Edition\n",
              "1          Paperback\n",
              "2          Hardcover\n",
              "3          Hardcover\n",
              "4    Unknown Binding\n",
              "Name: style, dtype: object"
            ]
          },
          "metadata": {},
          "execution_count": 11
        }
      ]
    },
    {
      "cell_type": "code",
      "source": [
        "#Drop image column since it is beyond of the scope of this project\n",
        "df.drop(columns='image', inplace=True)"
      ],
      "metadata": {
        "id": "CHl9vgkQF7NP"
      },
      "execution_count": 19,
      "outputs": []
    },
    {
      "cell_type": "code",
      "source": [
        "#Check all unique values for each column, this will help us check the nature of\n",
        "#each variable and if there are more missing values listed as '?' or 'missing'\n",
        "\n",
        "#Print unique values for each variable\n",
        "print(\"Unique values in 'overall':\", df['overall'].unique(), \"\\n\")\n",
        "print(\"Unique values in 'verified':\", df['verified'].unique(), \"\\n\")\n",
        "print(\"Unique values in 'reviewTime':\", df['reviewTime'].unique(), \"\\n\")\n",
        "print(\"Unique values in 'reviewerID':\", df['reviewerID'].unique(), \"\\n\")\n",
        "print(\"Unique values in 'asin':\", df['asin'].unique(), \"\\n\")\n",
        "print(\"Unique values in 'style':\", df['style'].unique(), \"\\n\")\n",
        "print(\"Unique values in 'reviewerName':\", df['reviewerName'].unique(), \"\\n\")\n",
        "print(\"Unique values in 'reviewText':\", df['reviewText'].unique(), \"\\n\")\n",
        "print(\"Unique values in 'summary':\", df['summary'].unique(), \"\\n\")\n",
        "print(\"Unique values in 'unixReviewTime':\", df['unixReviewTime'].unique(), \"\\n\")\n",
        "print(\"Unique values in 'vote':\", df['vote'].unique(), \"\\n\")"
      ],
      "metadata": {
        "colab": {
          "base_uri": "https://localhost:8080/"
        },
        "id": "c-715C_cEZtA",
        "outputId": "0fb9cc75-d15f-4dd2-ed30-0cf594a15539"
      },
      "execution_count": 22,
      "outputs": [
        {
          "output_type": "stream",
          "name": "stdout",
          "text": [
            "Unique values in 'overall': [5 3 4 2 1] \n",
            "\n",
            "Unique values in 'verified': [False  True] \n",
            "\n",
            "Unique values in 'reviewTime': ['01 23, 2017' '08 3, 2014' '07 9, 2013' ... '06 1, 2002' '10 3, 1999'\n",
            " '04 6, 2001'] \n",
            "\n",
            "Unique values in 'reviewerID': ['A1YTZAZZ1L32RL' 'A3EHZMD24B5BQ0' 'A38ZMH9LRCZL3X' ... 'A1ZB28DKVCEKAG'\n",
            " 'A27NFSLWVBJK32' 'ADY836HK6QSYR'] \n",
            "\n",
            "Unique values in 'asin': ['0002005263' '0001381733' '0001384198' ... '0060197552' '0060255404'\n",
            " '0060224827'] \n",
            "\n",
            "Unique values in 'style': ['Kindle Edition' 'Paperback' 'Hardcover' 'Unknown Binding'\n",
            " 'Mass Market Paperback' 'Board book' 'Library Binding' nan\n",
            " 'Audible Audiobook' 'Audio CD' 'Audio Cassette' 'Bonded Leather'\n",
            " 'School & Library Binding' 'Leather Bound' 'Vinyl' 'MP3 CD'\n",
            " 'Imitation Leather' 'Spiral-bound' 'MP3 Music' 'Amazon Video' 'DVD'\n",
            " 'VHS Tape' 'Loose Leaf' 'Kindle Edition with Audio/Video' 'Vinyl Bound'\n",
            " 'Cards' 'Rag Book' 'Digital' 'MP3 CD Library Binding' 'Map' 'Flexibound'\n",
            " 'DVD Audio' 'Poster' 'Calendar' 'DVD-ROM' 'Plastic Comb'\n",
            " 'Hardcover-spiral' 'Ring-bound' 'Perfect Paperback'] \n",
            "\n",
            "Unique values in 'reviewerName': ['Chuck' 'Sola49' 'A. E. Stoff' ... 'Pam Hindman' 'Gnomalina' 'ardnam'] \n",
            "\n",
            "Unique values in 'reviewText': ['Ok reading' 'Good'\n",
            " 'I purchased it for my new great-granddaughter.  I loved the book as a child and can still recite some of the verses.  I hope she loves it as much as I did and do.'\n",
            " ... 'This is a great book.'\n",
            " 'This is one book of two by Shel Silverstein that I deem one of the best self help books I have ever read. It so clearly and magically shows the relationship of self and others and how easy it is to become codependent. You have to get both books to really get a clearer picture but either on their own are fabulous. Great for kids, to teach them about happiness in relationships.'\n",
            " 'Great book on an interesting topic.  Children will learn about the earth\\'s layers:  topsoil, granite, basalt, steam, magma and mantle.  Very readable; recommended for grades 1-5.  Children can relate to this book--what child has not imagined \"digging their way to China\" at some point?  Nicely illustrated.'] \n",
            "\n",
            "Unique values in 'summary': ['Ok' 'Five Stars' 'New Book for New Grandchild' ...\n",
            " 'Great characters, good story and an ecology lesson'\n",
            " 'Love love love this book!' 'Great nonfiction'] \n",
            "\n",
            "Unique values in 'unixReviewTime': [1485129600 1407024000 1373328000 ... 1022889600  938908800  986515200] \n",
            "\n",
            "Unique values in 'vote': [nan '13' '22' '6' '3' '4' '11' '2' '17' '5' '8' '19' '48' '7' '10' '26'\n",
            " '120' '25' '9' '42' '50' '16' '21' '15' '12' '43' '31' '20' '37' '36'\n",
            " '28' '14' '46' '18' '47' '34' '45' '79' '24' '40' '84' '77' '144' '27'\n",
            " '32' '96' '254' '148' '23' '892' '104' '67' '29' '38' '143' '35' '152'\n",
            " '252' '39' '91' '30' '229' '103' '116' '82' '52' '66' '199' '49' '33'\n",
            " '69' '162' '58' '122' '105' '107' '95' '190' '61' '202' '175' '53' '55'\n",
            " '59' '123' '406' '94' '80' '51' '260' '70' '85' '76' '41' '101' '81'\n",
            " '231' '60' '89' '87' '44' '119' '312' '114' '220' '727' '65' '292' '93'\n",
            " '88' '54' '100' '108' '606' '92' '128' '75' '457' '299' '358' '550' '164'\n",
            " '132' '146' '548' '668' '244' '289' '57' '62' '112' '171' '265' '63'\n",
            " '291' '139' '73' '161' '201' '106' '388' '68' '213' '259' '181' '74'\n",
            " '796' '205' '83' '131' '124' '290' '392' '429' '180' '6,547' '219' '166'\n",
            " '167' '328' '308' '71' '154' '111' '99' '149' '279' '64' '447' '188'\n",
            " '194' '136' '174' '56' '135' '110' '156' '303' '176' '138' '117' '113'\n",
            " '226' '133' '125' '420' '287' '102' '212' '637' '78' '97' '90' '72' '404'\n",
            " '86' '173' '225' '177' '443' '400'] \n",
            "\n"
          ]
        }
      ]
    },
    {
      "cell_type": "code",
      "source": [
        "#Drop reviewerName, reviewerID, and unixReviewTime(we already have a review time var)\n",
        "df.drop(columns=['reviewerName','reviewerID', 'unixReviewTime'], inplace=True)"
      ],
      "metadata": {
        "id": "FhP1k19nII-M"
      },
      "execution_count": 23,
      "outputs": []
    },
    {
      "cell_type": "code",
      "source": [
        "#Convert reviewTime to datetime (previously an object type)\n",
        "df['reviewTime'] = pd.to_datetime(df['reviewTime'], format='%m %d, %Y')"
      ],
      "metadata": {
        "id": "VzcJv1NCIiyZ"
      },
      "execution_count": 25,
      "outputs": []
    },
    {
      "cell_type": "markdown",
      "source": [
        "Note: `asin` is a product code, I left in in because maybe we can figure out a way to get more product details and names from this"
      ],
      "metadata": {
        "id": "2lT3-4TNKoam"
      }
    },
    {
      "cell_type": "code",
      "source": [
        "#Check distribution of scores\n",
        "print('Distribution of Book overall ratings:')\n",
        "df['overall'].value_counts(normalize=True)"
      ],
      "metadata": {
        "colab": {
          "base_uri": "https://localhost:8080/"
        },
        "id": "6fhLNCHjK0tt",
        "outputId": "4b4f4b9a-dbc1-487a-8278-761370dbbebb"
      },
      "execution_count": 30,
      "outputs": [
        {
          "output_type": "stream",
          "name": "stdout",
          "text": [
            "Distribution of Book overall ratings:\n"
          ]
        },
        {
          "output_type": "execute_result",
          "data": {
            "text/plain": [
              "5    0.628216\n",
              "4    0.203748\n",
              "3    0.090851\n",
              "2    0.041702\n",
              "1    0.035483\n",
              "Name: overall, dtype: float64"
            ]
          },
          "metadata": {},
          "execution_count": 30
        }
      ]
    },
    {
      "cell_type": "code",
      "source": [
        "print('Distribution of Book formats')\n",
        "df['style'].value_counts(normalize=True)"
      ],
      "metadata": {
        "colab": {
          "base_uri": "https://localhost:8080/"
        },
        "id": "DbbPP8FdLcZf",
        "outputId": "dce9d432-9fc4-42a6-e99f-c62b3349dbc9"
      },
      "execution_count": 33,
      "outputs": [
        {
          "output_type": "stream",
          "name": "stdout",
          "text": [
            "Distribution of Book formats\n"
          ]
        },
        {
          "output_type": "execute_result",
          "data": {
            "text/plain": [
              "Kindle Edition                     0.484896\n",
              "Paperback                          0.227944\n",
              "Hardcover                          0.187049\n",
              "Mass Market Paperback              0.066129\n",
              "Audio CD                           0.010327\n",
              "Board book                         0.009109\n",
              "Audible Audiobook                  0.002316\n",
              "Audio Cassette                     0.001853\n",
              "Library Binding                    0.001544\n",
              "Kindle Edition with Audio/Video    0.001424\n",
              "Spiral-bound                       0.001132\n",
              "Leather Bound                      0.000738\n",
              "DVD                                0.000703\n",
              "Imitation Leather                  0.000635\n",
              "MP3 CD                             0.000618\n",
              "Unknown Binding                    0.000480\n",
              "Amazon Video                       0.000446\n",
              "Hardcover-spiral                   0.000446\n",
              "School & Library Binding           0.000377\n",
              "Map                                0.000257\n",
              "MP3 Music                          0.000206\n",
              "Ring-bound                         0.000206\n",
              "Plastic Comb                       0.000189\n",
              "Rag Book                           0.000172\n",
              "Vinyl Bound                        0.000137\n",
              "Poster                             0.000137\n",
              "Vinyl                              0.000103\n",
              "Loose Leaf                         0.000086\n",
              "VHS Tape                           0.000069\n",
              "DVD-ROM                            0.000051\n",
              "Bonded Leather                     0.000051\n",
              "MP3 CD Library Binding             0.000034\n",
              "Calendar                           0.000034\n",
              "Perfect Paperback                  0.000034\n",
              "Digital                            0.000017\n",
              "Flexibound                         0.000017\n",
              "DVD Audio                          0.000017\n",
              "Cards                              0.000017\n",
              "Name: style, dtype: float64"
            ]
          },
          "metadata": {},
          "execution_count": 33
        }
      ]
    }
  ]
}