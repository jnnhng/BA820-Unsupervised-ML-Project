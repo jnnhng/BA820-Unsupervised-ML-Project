{
  "nbformat": 4,
  "nbformat_minor": 0,
  "metadata": {
    "colab": {
      "provenance": []
    },
    "kernelspec": {
      "name": "python3",
      "display_name": "Python 3"
    },
    "language_info": {
      "name": "python"
    }
  },
  "cells": [
    {
      "cell_type": "markdown",
      "source": [
        "[![Open In Colab](https://colab.research.google.com/assets/colab-badge.svg)](https://colab.research.google.com/drive/1-IMATty8F1NA9sQm_H6lKtjex0UIXyh3?usp=sharing)"
      ],
      "metadata": {
        "id": "SF56E_RJZ6oa"
      }
    },
    {
      "cell_type": "markdown",
      "source": [
        "# **Natural Language Processing on Amazon books review dataset**\n",
        "\n",
        "---\n",
        "\n",
        "#### Dhruv Shah, Jenn Hong, Santiago Mazzei, Setu Shah, Victor Floriano"
      ],
      "metadata": {
        "id": "TQnfcPrdaI1k"
      }
    },
    {
      "cell_type": "code",
      "source": [
        "# Importing libraries\n",
        "\n",
        "import pandas as pd\n",
        "import numpy as np\n",
        "import seaborn as sns\n",
        "import matplotlib.pyplot as plt\n",
        "from scipy.cluster.hierarchy import linkage, fcluster\n",
        "from sklearn.preprocessing import StandardScaler\n",
        "from nltk.tokenize import word_tokenize, wordpunct_tokenize, sent_tokenize, WhitespaceTokenizer, RegexpTokenizer\n",
        "from nltk.tokenize.casual import TweetTokenizer\n",
        "import nltk\n",
        "from sklearn.feature_extraction.text import CountVectorizer\n",
        "from sklearn.metrics.pairwise import cosine_similarity\n",
        "from sklearn.feature_extraction.text import TfidfVectorizer\n",
        "from sklearn.model_selection import train_test_split\n",
        "from sklearn.linear_model import LogisticRegression\n",
        "from sklearn.metrics import accuracy_score, classification_report\n",
        "from sklearn.metrics import confusion_matrix\n",
        "from gensim.models import Word2Vec\n",
        "from sklearn.manifold import TSNE\n",
        "from sklearn.decomposition import PCA\n",
        "import plotly.express as px"
      ],
      "metadata": {
        "id": "jtGRHDGCav7G"
      },
      "execution_count": 1,
      "outputs": []
    },
    {
      "cell_type": "code",
      "source": [
        "# Importing dataset\n",
        "\n",
        "filepath = \"\"\n",
        "books = pd.read_json(filepath)"
      ],
      "metadata": {
        "id": "qnWNCgCwbpU-"
      },
      "execution_count": null,
      "outputs": []
    },
    {
      "cell_type": "code",
      "source": [
        "# Taking a look\n",
        "\n",
        "books.head()"
      ],
      "metadata": {
        "id": "YMKVMqXtbrAt"
      },
      "execution_count": null,
      "outputs": []
    }
  ]
}