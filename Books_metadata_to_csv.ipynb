{
  "nbformat": 4,
  "nbformat_minor": 0,
  "metadata": {
    "colab": {
      "provenance": [],
      "machine_shape": "hm"
    },
    "kernelspec": {
      "name": "python3",
      "display_name": "Python 3"
    },
    "language_info": {
      "name": "python"
    }
  },
  "cells": [
    {
      "cell_type": "markdown",
      "source": [
        "#Converting the original metadata on the Books sample for Amazon reviews into a smaller DataFrame\n",
        "\n",
        "The original metadata was a large 3.8GB file with more information than necessary - for the scope of our project - so we loaded into this notebook to change its format to a DataFrame and keep only the book titles, price, and ASIN codes we need to add to our existing reviews data."
      ],
      "metadata": {
        "id": "SaJDeqBH1w-D"
      }
    },
    {
      "cell_type": "code",
      "execution_count": 28,
      "metadata": {
        "id": "ezP__Onqx50d"
      },
      "outputs": [],
      "source": [
        "import pandas as pd\n",
        "import json\n",
        "import numpy as np"
      ]
    },
    {
      "cell_type": "code",
      "source": [
        "from google.colab import drive\n",
        "drive.mount('/content/drive')"
      ],
      "metadata": {
        "colab": {
          "base_uri": "https://localhost:8080/"
        },
        "id": "AKTqEChjx8oM",
        "outputId": "36f55fe5-c7de-4703-8dcb-5c71e4e7a868"
      },
      "execution_count": 2,
      "outputs": [
        {
          "output_type": "stream",
          "name": "stdout",
          "text": [
            "Mounted at /content/drive\n"
          ]
        }
      ]
    },
    {
      "cell_type": "code",
      "source": [
        "#The original json file is in lines format - need the additional argument lines=True\n",
        "book_titles = pd.read_json('/content/drive/MyDrive/BU_MSBA/BA820 - Unsupervised ML/meta_Books.json', lines=True)"
      ],
      "metadata": {
        "id": "vDp1No-nyFCc"
      },
      "execution_count": 11,
      "outputs": []
    },
    {
      "cell_type": "code",
      "source": [
        "book_titles.columns"
      ],
      "metadata": {
        "colab": {
          "base_uri": "https://localhost:8080/"
        },
        "id": "4XI9MrM82Sx6",
        "outputId": "f8946e71-77ef-4024-9e66-34f0bc5e5161"
      },
      "execution_count": 12,
      "outputs": [
        {
          "output_type": "execute_result",
          "data": {
            "text/plain": [
              "Index(['category', 'tech1', 'description', 'fit', 'title', 'also_buy', 'tech2',\n",
              "       'brand', 'feature', 'rank', 'also_view', 'main_cat', 'similar_item',\n",
              "       'date', 'price', 'asin', 'imageURL', 'imageURLHighRes', 'details'],\n",
              "      dtype='object')"
            ]
          },
          "metadata": {},
          "execution_count": 12
        }
      ]
    },
    {
      "cell_type": "code",
      "source": [
        "#Select the title, asin and price columns\n",
        "books_meta = book_titles[['title', 'asin', 'price']]"
      ],
      "metadata": {
        "id": "49nF2KRZ2UAy"
      },
      "execution_count": 32,
      "outputs": []
    },
    {
      "cell_type": "code",
      "source": [
        "#Missing values in price are marked as '', replace with NaN\n",
        "books_meta.loc[:,'price'] = books_meta['price'].replace('', np.nan)"
      ],
      "metadata": {
        "colab": {
          "base_uri": "https://localhost:8080/"
        },
        "id": "_nPYxmyT4DKm",
        "outputId": "226c64d9-26a5-4b7a-f02f-28a0defbe829"
      },
      "execution_count": 34,
      "outputs": [
        {
          "output_type": "stream",
          "name": "stderr",
          "text": [
            "<ipython-input-34-739d00752f8a>:2: SettingWithCopyWarning: \n",
            "A value is trying to be set on a copy of a slice from a DataFrame.\n",
            "Try using .loc[row_indexer,col_indexer] = value instead\n",
            "\n",
            "See the caveats in the documentation: https://pandas.pydata.org/pandas-docs/stable/user_guide/indexing.html#returning-a-view-versus-a-copy\n",
            "  books_meta.loc[:,'price'] = books_meta['price'].replace('', np.nan)\n"
          ]
        }
      ]
    },
    {
      "cell_type": "code",
      "source": [
        "#Size of file was reduced from 3.8GB to 241MB\n",
        "books_meta.info()"
      ],
      "metadata": {
        "colab": {
          "base_uri": "https://localhost:8080/"
        },
        "id": "U8I-MTLd4u90",
        "outputId": "b7450c2a-dbbd-422d-a738-2ab3c44524eb"
      },
      "execution_count": 37,
      "outputs": [
        {
          "output_type": "stream",
          "name": "stdout",
          "text": [
            "<class 'pandas.core.frame.DataFrame'>\n",
            "RangeIndex: 2934949 entries, 0 to 2934948\n",
            "Data columns (total 3 columns):\n",
            " #   Column  Dtype \n",
            "---  ------  ----- \n",
            " 0   title   object\n",
            " 1   asin    object\n",
            " 2   price   object\n",
            "dtypes: object(3)\n",
            "memory usage: 67.2+ MB\n"
          ]
        }
      ]
    },
    {
      "cell_type": "code",
      "source": [
        "#Save new dataframe\n",
        "from google.colab import files\n",
        "\n",
        "#Convert into csv\n",
        "books_meta.to_csv('books_meta_short.csv')\n",
        "\n",
        "#Download new csv file\n",
        "files.download('books_meta_short.csv')"
      ],
      "metadata": {
        "colab": {
          "base_uri": "https://localhost:8080/",
          "height": 17
        },
        "id": "VeFTKab_5cOt",
        "outputId": "5fee92a7-5e82-4f7c-c2a4-10bcacaa20a2"
      },
      "execution_count": 38,
      "outputs": [
        {
          "output_type": "display_data",
          "data": {
            "text/plain": [
              "<IPython.core.display.Javascript object>"
            ],
            "application/javascript": [
              "\n",
              "    async function download(id, filename, size) {\n",
              "      if (!google.colab.kernel.accessAllowed) {\n",
              "        return;\n",
              "      }\n",
              "      const div = document.createElement('div');\n",
              "      const label = document.createElement('label');\n",
              "      label.textContent = `Downloading \"${filename}\": `;\n",
              "      div.appendChild(label);\n",
              "      const progress = document.createElement('progress');\n",
              "      progress.max = size;\n",
              "      div.appendChild(progress);\n",
              "      document.body.appendChild(div);\n",
              "\n",
              "      const buffers = [];\n",
              "      let downloaded = 0;\n",
              "\n",
              "      const channel = await google.colab.kernel.comms.open(id);\n",
              "      // Send a message to notify the kernel that we're ready.\n",
              "      channel.send({})\n",
              "\n",
              "      for await (const message of channel.messages) {\n",
              "        // Send a message to notify the kernel that we're ready.\n",
              "        channel.send({})\n",
              "        if (message.buffers) {\n",
              "          for (const buffer of message.buffers) {\n",
              "            buffers.push(buffer);\n",
              "            downloaded += buffer.byteLength;\n",
              "            progress.value = downloaded;\n",
              "          }\n",
              "        }\n",
              "      }\n",
              "      const blob = new Blob(buffers, {type: 'application/binary'});\n",
              "      const a = document.createElement('a');\n",
              "      a.href = window.URL.createObjectURL(blob);\n",
              "      a.download = filename;\n",
              "      div.appendChild(a);\n",
              "      a.click();\n",
              "      div.remove();\n",
              "    }\n",
              "  "
            ]
          },
          "metadata": {}
        },
        {
          "output_type": "display_data",
          "data": {
            "text/plain": [
              "<IPython.core.display.Javascript object>"
            ],
            "application/javascript": [
              "download(\"download_99450ad2-bc23-4fbc-b5ea-5f65a862fdba\", \"books_meta_short.csv\", 252595149)"
            ]
          },
          "metadata": {}
        }
      ]
    }
  ]
}